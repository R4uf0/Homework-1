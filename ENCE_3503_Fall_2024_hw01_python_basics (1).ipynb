{
  "cells": [
    {
      "cell_type": "markdown",
      "metadata": {
        "id": "qL9L6AQyT0zg"
      },
      "source": [
        "# ENCE 3503: Data & Information Engineering -- Homework 1\n",
        "\n",
        "## Python Basics\n",
        "\n",
        "### Purpose\n",
        "\n",
        "This homework assignment aims to strengthen your understanding and proficiency in working with fundamental Python concepts, specifically lists, functions, and strings, loops etc. Through a series of exercises, you will delve into various aspects of these elements\n",
        "\n",
        "### Submission Instructions\n",
        "\n",
        "This assignment will be done entirely in this Colaboratory notebook, and you will submit your notebook with solutions to:\n",
        "\n",
        "1. Github Classroom (please accept the assigment at https://classroom.github.com/a/VcXnUK4X with your Github account. **(FALL 2024)**)\n",
        "\n",
        "2. Blackboard\n",
        "\n",
        "### Grading\n",
        "\n",
        "Throughout this course, we will use Google’s Python Style Guide (https://google.github.io/styleguide/pyguide.html) as the coding standard for homework and project submission. Grading is based on solution, comments and descriptions, and well-written and commented Python code, based on the coding standards noted above. The notebook should be fully explained and work in its entirety when you submit it."
      ]
    },
    {
      "cell_type": "markdown",
      "metadata": {
        "id": "6Z4g7aIwUpeJ"
      },
      "source": [
        "## Student Information\n",
        "\n",
        "**Full Name**: Rauf Asadli\n",
        "\n",
        "**Student ID**: 20271\n",
        "\n",
        "**CRN**: 10161\n",
        "\n",
        "**Github Classroom Repository URL**: https://github.com/R4uf0/Homework-1"
      ]
    },
    {
      "cell_type": "markdown",
      "metadata": {
        "id": "HV04piCW-U-g"
      },
      "source": [
        "## Task 1\n",
        "\n",
        "Write a program that prompts the user for numbers until they enter the command 'exit'. Upon receiving the 'exit' command, the program should compute and display total count, average, maximum, minimum, and median of numbers. Make sure to allow the user to enter multiple values separated by spaces in a single input line. Print error messages for invalid inputs, and ignore those inputs. Do not forget to use of functions for better organization and code readability.\n"
      ]
    },
    {
      "cell_type": "code",
      "execution_count": null,
      "metadata": {
        "id": "4lH6oYJKBc2G"
      },
      "outputs": [],
      "source": [
        "numbers = []\n",
        "invalids = []\n",
        "\n",
        "#Check inputs\n",
        "def get_numbers():\n",
        "    while True:\n",
        "        user_input = input(\"Enter numbers separated by spaces (or 'exit' to finish): \")\n",
        "        if user_input.lower() == 'exit':\n",
        "            break\n",
        "\n",
        "        for i in user_input.split():\n",
        "            if i.isdigit() or (i.startswith('-') and i[1:].isdigit()):\n",
        "                numbers.append(int(i))\n",
        "            else:\n",
        "                invalids.append(i)\n",
        "\n",
        "        numbers.sort()\n",
        "\n",
        "#Gives count\n",
        "def total_count():\n",
        "  count = len(numbers)\n",
        "  print(\"Total avarage:\",count)\n",
        "\n",
        "#Gives average\n",
        "def average():\n",
        "  ave = sum(numbers) / len(numbers)\n",
        "  print(\"Average:\",ave)\n",
        "\n",
        "#Greatest number\n",
        "def maximum():\n",
        "  max = numbers[len(numbers)-1]\n",
        "  print(\"Maximum number:\",max)\n",
        "\n",
        "#Smallest number\n",
        "def minimum():\n",
        "  min = numbers[0]\n",
        "  print(\"Minimum number:\",min)\n",
        "\n",
        "#Median of list\n",
        "def median_finder():\n",
        "  l = len(numbers)\n",
        "  m = l//2\n",
        "  if l % 2 == 0:\n",
        "    median = (numbers[m] + numbers[m-1])/2\n",
        "  else:\n",
        "    median = numbers[m]\n",
        "  print(\"Median:\",median)\n",
        "\n",
        "#Error for invalids\n",
        "def error():\n",
        "  for e in invalids:\n",
        "    print(e,\" is invalid input\")\n",
        "\n",
        "#Methods\n",
        "get_numbers()\n",
        "total_count()\n",
        "average()\n",
        "maximum()\n",
        "minimum()\n",
        "median_finder()\n",
        "error()"
      ]
    },
    {
      "cell_type": "markdown",
      "metadata": {
        "id": "gQB014kuBdq-"
      },
      "source": [
        "## Task 2\n",
        "\n",
        "Write a program that prompts the user to enter a specified number of integers, then display how many of the numbers are even and how many are odd. The program should also list the even and odd numbers separately. Print error messages for invalid inputs, and ignore those inputs. Do not forget to use of functions for better organization and code readability.\n"
      ]
    },
    {
      "cell_type": "code",
      "execution_count": null,
      "metadata": {
        "id": "IE7rTdOpD4hF"
      },
      "outputs": [],
      "source": [
        "user_inputs = input()\n",
        "mixed_list = user_inputs.split()\n",
        "numbers = []\n",
        "invalids = []\n",
        "\n",
        "def number_separate():\n",
        "\n",
        "  for k in mixed_list:\n",
        "     if k.isdigit():\n",
        "            num = int(k)\n",
        "            numbers.append(num)\n",
        "     else:\n",
        "            invalids.append(k)\n",
        "\n",
        "number_separate()\n",
        "\n",
        "def identify_list():\n",
        "  e = [even for even in numbers if even % 2 == 0]\n",
        "  o = [odd for odd in numbers if odd % 2 == 1]\n",
        "  return e, o\n",
        "\n",
        "even_numbers, odd_numbers = identify_list()\n",
        "def invalid():\n",
        "  for invalid in invalids:\n",
        "    print( invalid, \" is invalid input\" )\n",
        "\n",
        "print(\"~~~~~~~~~~~~~~~~~~~~~~~~~~~~~~\")\n",
        "print(\"The number of even numbers:\",len(even_numbers))\n",
        "print(\"Even numbers:\\n\",even_numbers)\n",
        "print(\"The number of odd numbers:\",len(odd_numbers))\n",
        "print(\"Odd numbers:\\n\",odd_numbers)\n",
        "invalid()\n",
        "print(\"~~~~~~~~~~~~~~~~~~~~~~~~~~~~~~\")"
      ]
    },
    {
      "cell_type": "markdown",
      "metadata": {
        "id": "-YWOFM78D5Nl"
      },
      "source": [
        "## Task 3\n",
        "\n",
        "Develop a program that manages a personal account for tracking incomes and expenses. The program should allow users to add incomes and expenses, calculate totals, and display account information.\n",
        "\n",
        "Note: Attributes of PersonAccount class: first name, last name, incomes, expenses. Methods: add_income(description, amount), add_expense(description, amount), total_income(), total_expense(), account_balance(), account_info()"
      ]
    },
    {
      "cell_type": "code",
      "execution_count": null,
      "metadata": {
        "id": "Cj0WNcHLSZgJ"
      },
      "outputs": [],
      "source": [
        "class PersonAccount:\n",
        "  def __init__(self, first_name, last_name):\n",
        "    self.first_name = first_name\n",
        "    self.last_name = last_name\n",
        "    self.incomes = []\n",
        "    self.expenses = []\n",
        "\n",
        "  def add_income(self, description, amount):\n",
        "    self.incomes.append((description, amount))\n",
        "\n",
        "  def add_expense(self, description, amount):\n",
        "    self.expenses.append((description, amount))\n",
        "\n",
        "  def total_income(self):\n",
        "    return sum(income[1] for income in self.incomes)\n",
        "\n",
        "  def total_expense(self):\n",
        "    return sum(expense[1] for expense in self.expenses)\n",
        "\n",
        "  def account_balance(self):\n",
        "    return self.total_income() - self.total_expense()\n",
        "\n",
        "  def account_info(self):\n",
        "        print(f\"Account Holder: {self.first_name} {self.last_name}\")\n",
        "        print(\"Incomes:\")\n",
        "        for desc, amt in self.incomes:\n",
        "            print(f\" - {desc}: ${amt}\")\n",
        "        print(\"Expenses:\")\n",
        "        for desc, amt in self.expenses:\n",
        "            print(f\" - {desc}: ${amt}\")\n",
        "        print(f\"Total Income: ${self.total_income()}\")\n",
        "        print(f\"Total Expenses: ${self.total_expense()}\")\n",
        "        print(f\"Account Balance: ${self.account_balance()}\")\n",
        "\n",
        "# Example usage:\n",
        "account = PersonAccount(\"Rauf\", \"Asadli\")\n",
        "\n",
        "# Adding incomes\n",
        "account.add_income(\"Salary\", 1200)\n",
        "account.add_income(\"Begging\", 3000)\n",
        "\n",
        "# Adding expenses\n",
        "account.add_expense(\"AzeriQaz\", 100)\n",
        "account.add_expense(\"Market\", 300)\n",
        "\n",
        "# Displaying account information\n",
        "account.account_info()"
      ]
    },
    {
      "cell_type": "markdown",
      "metadata": {
        "id": "G4-Y376XSZqZ"
      },
      "source": [
        "## Task 4\n",
        "\n",
        "Write a program to check whether a given string is a \"mirrored string\". A string is considered mirrored if the first half of the string is equal to the reverse of the second half.\n",
        "\n",
        "If the string has an odd length, ignore the middle character when performing the check.\n",
        "\n",
        "If the string has an even length, check the two equal halves.\n",
        "\n",
        "Do not forget to use of functions for better organization and code readability."
      ]
    },
    {
      "cell_type": "code",
      "execution_count": null,
      "metadata": {
        "id": "pWAzLfQqFRCu"
      },
      "outputs": [],
      "source": [
        "def mirrored_element(element):\n",
        "  l = len(element)\n",
        "  start = element[:l//2]\n",
        "  end = element[-(l//2):]\n",
        "\n",
        "  if start == end[::-1]:\n",
        "    return \"Element is mirrored\"\n",
        "  else:\n",
        "    return \"Element is not mirrored\"\n",
        "\n",
        "#For checking\n",
        "print(mirrored_element(\"abcba\"))"
      ]
    },
    {
      "cell_type": "code",
      "execution_count": null,
      "metadata": {
        "id": "jeHUo8uNFSZA",
        "vscode": {
          "languageId": "plaintext"
        }
      },
      "outputs": [],
      "source": [
        "## Task 5\n",
        "\n",
        "Write a program that prompts the list of full names in the format \"First Middle Last\" from a user, where middle names may or may not be present. The full name can also contain a prefix (e.g., \"Dr.\", \"Mr.\", \"Mrs.\") and/or a suffix (e.g., \"Jr.\", \"Sr.\", \"III\"). Your task is to create a function process_names(names) that performs the following operations for each name in the list:\n",
        "\n",
        "If the name contains a middle name, extract only the first letter of the middle name, followed by a period. For example, \"John Michael Doe\" should be converted to \"John M. Doe\".\n",
        "\n",
        "If there is a prefix, it should remain unchanged at the beginning of the name. For example, \"Dr. John Michael Doe\" should be converted to \"Dr. John M. Doe\".\n",
        "\n",
        "If there is a suffix, it should remain unchanged at the end of the name. For example, \"John Michael Doe Jr.\" should be converted to \"John M. Doe Jr.\".\n",
        "\n",
        "If the name does not contain a middle name, prefix, or suffix, leave it unchanged.\n",
        "\n",
        "Finally, return a list of the processed names.\n",
        "\n",
        "Do not forget to use of functions for better organization and code readability."
      ]
    },
    {
      "cell_type": "code",
      "execution_count": null,
      "metadata": {
        "id": "VwbSOM09SWsy"
      },
      "outputs": [],
      "source": [
        "prefixes = [\"Dr.\", \"Mr.\", \"Mrs.\"]\n",
        "suffixes = [\"Jr.\", \"Sr.\", \"III\"]\n",
        "names = [\n",
        "    #\"Dr. John Michael Doe\"\n",
        "]\n",
        "\n",
        "def split_names(names):\n",
        "    final_names = []\n",
        "    for name in names:\n",
        "        parts = name.split()\n",
        "\n",
        "        #print(parts[0])\n",
        "        #print(parts[-1])\n",
        "        prefix = parts[0] if parts[0] in prefixes else \"\"\n",
        "        suffix = parts[-1] if parts[-1] in suffixes else \"\"\n",
        "\n",
        "        if prefix:\n",
        "            parts = parts[1:]\n",
        "        if suffix:\n",
        "            parts = parts[:-1]\n",
        "\n",
        "        first = parts[0] if len(parts) > 0 else \"\"\n",
        "        last = parts[-1] if len(parts) > 1 else \"\"\n",
        "        middle = parts[1] if len(parts) == 3 else \"\"\n",
        "\n",
        "        if middle:\n",
        "            middle = middle[0] + \".\"\n",
        "\n",
        "        final_name = \" \".join([prefix, first, middle, last, suffix]).strip()\n",
        "        final_names.append(final_name)\n",
        "\n",
        "    return final_names\n",
        "\n",
        "\n",
        "processed = split_names(names)\n",
        "for name in processed:\n",
        "    print(name)"
      ]
    }
  ],
  "metadata": {
    "colab": {
      "provenance": []
    },
    "kernelspec": {
      "display_name": "Python 3",
      "name": "python3"
    },
    "language_info": {
      "name": "python"
    }
  },
  "nbformat": 4,
  "nbformat_minor": 0
}
